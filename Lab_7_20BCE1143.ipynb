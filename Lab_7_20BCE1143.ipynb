{
  "cells": [
    {
      "cell_type": "markdown",
      "metadata": {
        "id": "view-in-github",
        "colab_type": "text"
      },
      "source": [
        "<a href=\"https://colab.research.google.com/github/Advait177013/ML_CSE4020/blob/main/Lab_7_20BCE1143.ipynb\" target=\"_parent\"><img src=\"https://colab.research.google.com/assets/colab-badge.svg\" alt=\"Open In Colab\"/></a>"
      ]
    },
    {
      "cell_type": "code",
      "execution_count": null,
      "metadata": {
        "id": "GanKcTHpLh0K"
      },
      "outputs": [],
      "source": [
        "import pandas as pd\n",
        "import numpy as np\n",
        "import matplotlib.pyplot as plt\n",
        "%matplotlib inline"
      ]
    },
    {
      "cell_type": "code",
      "execution_count": null,
      "metadata": {
        "id": "9L-8ggSgL-2j"
      },
      "outputs": [],
      "source": [
        "from sklearn.datasets import load_iris\n",
        "X, y = load_iris(return_X_y=True)\n",
        "from sklearn import preprocessing\n",
        "scalerX = preprocessing.StandardScaler().fit(X)\n",
        "X= scalerX.transform(X)\n",
        "from sklearn.model_selection import train_test_split\n",
        "X_train, X_test, y_train, y_test = train_test_split(X, y, test_size=0.2)"
      ]
    },
    {
      "cell_type": "code",
      "execution_count": null,
      "metadata": {
        "colab": {
          "base_uri": "https://localhost:8080/",
          "height": 279
        },
        "id": "7mPcjEC5OJX8",
        "outputId": "8966d018-3d1e-41c0-8fa7-56ded4972bd3"
      },
      "outputs": [
        {
          "data": {
            "image/png": "[encoded data removed]",
            "text/plain": [
              "<Figure size 432x288 with 1 Axes>"
            ]
          },
          "metadata": {},
          "output_type": "display_data"
        }
      ],
      "source": [
        "from sklearn.linear_model import LogisticRegression\n",
        "logReg = LogisticRegression(random_state=0).fit(X_train, y_train)\n",
        "y_pred = logReg.predict(X_test)\n",
        "plt.scatter(y_test, y_pred, label=\"Real Comparison\")\n",
        "plt.plot(y, y, '-r', label=\"Ideal Accuracy\")\n",
        "plt.xlabel(\"Real\")\n",
        "plt.ylabel(\"Predicted\")\n",
        "plt.show() #only three states, 0, 1, 2"
      ]
    },
    {
      "cell_type": "code",
      "execution_count": null,
      "metadata": {
        "colab": {
          "base_uri": "https://localhost:8080/"
        },
        "id": "y8BiC4PnV3TI",
        "outputId": "bf682ea5-a312-4eed-c1bd-1e42559a4d49"
      },
      "outputs": [
        {
          "data": {
            "text/plain": [
              "0.9333333333333333"
            ]
          },
          "execution_count": 29,
          "metadata": {},
          "output_type": "execute_result"
        }
      ],
      "source": [
        "logReg.score(X_test, y_test)"
      ]
    },
    {
      "cell_type": "code",
      "execution_count": 53,
      "metadata": {
        "colab": {
          "base_uri": "https://localhost:8080/",
          "height": 282
        },
        "id": "li-kRuhyWGqv",
        "outputId": "17876a72-c429-4961-e7ce-c8991f76823b"
      },
      "outputs": [
        {
          "output_type": "execute_result",
          "data": {
            "text/plain": [
              "<function matplotlib.pyplot.show(*args, **kw)>"
            ]
          },
          "metadata": {},
          "execution_count": 53
        },
        {
          "output_type": "display_data",
          "data": {
            "text/plain": [
              "<Figure size 432x288 with 1 Axes>"
            ],
            "image/png": "[encoded data removed]"
          },
          "metadata": {
            "needs_background": "light"
          }
        }
      ],
      "source": [
        "from sklearn import svm\n",
        "mySVM = svm.SVC(kernel=\"poly\", degree=3)\n",
        "model12 = mySVM.fit(X_train[:, 0:2], y_train)\n",
        "model34 = mySVM.fit(X_train[:, 2:4], y_train)\n",
        "#model1234 = mySVM.fit(X_train, y_train)\n",
        "X12=X_test[:, 0:2]\n",
        "X34=X_test[:, 2:4]\n",
        "y_pred12=model12.predict(X12)\n",
        "y_pred34=model34.predict(X34)\n",
        "plt.scatter(y_test, y_pred12, color=\"green\")\n",
        "plt.scatter(y_test, y_pred34)\n",
        "plt.plot(y, y, '-r')\n",
        "plt.show"
      ]
    },
    {
      "cell_type": "code",
      "source": [
        "from sklearn.metrics import accuracy_score\n",
        "print(accuracy_score(y_test, y_pred12))\n",
        "print(accuracy_score(y_test, y_pred34))\n"
      ],
      "metadata": {
        "colab": {
          "base_uri": "https://localhost:8080/"
        },
        "id": "midu3BpdBJ37",
        "outputId": "d22443cd-10a0-4abf-841f-2db9af956f04"
      },
      "execution_count": 51,
      "outputs": [
        {
          "output_type": "stream",
          "name": "stdout",
          "text": [
            "0.36666666666666664\n",
            "1.0\n"
          ]
        }
      ]
    }
  ],
  "metadata": {
    "colab": {
      "collapsed_sections": [],
      "provenance": [],
      "authorship_tag": "ABX9TyM82EPdaxFBnlEs8/ojwdw4",
      "include_colab_link": true
    },
    "kernelspec": {
      "display_name": "Python 3",
      "name": "python3"
    },
    "language_info": {
      "name": "python"
    }
  },
  "nbformat": 4,
  "nbformat_minor": 0
}