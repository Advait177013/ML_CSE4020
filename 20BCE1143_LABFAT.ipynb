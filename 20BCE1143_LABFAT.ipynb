{
  "nbformat": 4,
  "nbformat_minor": 0,
  "metadata": {
    "colab": {
      "provenance": [],
      "collapsed_sections": [],
      "authorship_tag": "ABX9TyPf/8/xcRSBYWkWf42uQuxY",
      "include_colab_link": true
    },
    "kernelspec": {
      "name": "python3",
      "display_name": "Python 3"
    },
    "language_info": {
      "name": "python"
    }
  },
  "cells": [
    {
      "cell_type": "markdown",
      "metadata": {
        "id": "view-in-github",
        "colab_type": "text"
      },
      "source": [
        "<a href=\"https://colab.research.google.com/github/Advait177013/ML_CSE4020/blob/main/20BCE1143_LABFAT.ipynb\" target=\"_parent\"><img src=\"https://colab.research.google.com/assets/colab-badge.svg\" alt=\"Open In Colab\"/></a>"
      ]
    },
    {
      "cell_type": "code",
      "execution_count": 33,
      "metadata": {
        "id": "IkwpSQWAfSdC"
      },
      "outputs": [],
      "source": [
        "import numpy as np\n",
        "import pandas as pd\n",
        "import matplotlib.pyplot as plt\n",
        "%matplotlib inline\n",
        "\n",
        "from sklearn.model_selection import train_test_split\n",
        "\n",
        "from sklearn.linear_model import LogisticRegression\n",
        "from sklearn.linear_model import LinearRegression\n",
        "from sklearn.metrics import accuracy_score\n",
        "from sklearn.metrics import precision_score\n",
        "from sklearn.metrics import jaccard_score\n",
        "from sklearn.metrics import balanced_accuracy_score\n",
        "\n",
        "from sklearn.preprocessing import StandardScaler\n",
        "from sklearn.metrics import mean_squared_error\n",
        "from sklearn.metrics import mean_absolute_error\n",
        "from math import sqrt"
      ]
    },
    {
      "cell_type": "code",
      "source": [
        "url = 'https://raw.githubusercontent.com/Advait177013/ML_CSE4020/main/20BCE1143_labfat.csv'\n",
        "df = pd.read_csv(url)\n",
        "df"
      ],
      "metadata": {
        "colab": {
          "base_uri": "https://localhost:8080/",
          "height": 520
        },
        "id": "Izo_b6e1foh6",
        "outputId": "2f7fdebd-e5ac-44cb-8a80-1e7c38ba81d1"
      },
      "execution_count": 2,
      "outputs": [
        {
          "output_type": "execute_result",
          "data": {
            "text/plain": [
              "   Movie Name           Director  Released Year Movie Type\n",
              "0     Movie 1        Kevin Feige           2020   Thriller\n",
              "1     Movie 2        Kevin Feige           2019     Action\n",
              "2     Movie 3        Kevin Feige           2017   Thriller\n",
              "3     Movie 4        Kevin Feige           2016      Drama\n",
              "4     Movie 5      Anthony Russo           2015     Comedy\n",
              "5     Movie 6      Anthony Russo           2014   Thriller\n",
              "6     Movie 7      Anthony Russo           2018   Thriller\n",
              "7     Movie 8  Christopher Nolan           2013     Action\n",
              "8     Movie 9  Christopher Nolan           2012     Action\n",
              "9    Movie 10  Christopher Nolan           2014      Drama\n",
              "10   Movie 11  Christopher Nolan           2017      Drama\n",
              "11   Movie 12    Martin Scorsese           2022     Horror\n",
              "12   Movie 13    Martin Scorsese           2019     Horror\n",
              "13   Movie 14   Steven Speilberg           2021     Comedy\n",
              "14   Movie 15   Steven Speilberg           2020     Horror"
            ],
            "text/html": [
              "\n",
              "  <div id=\"df-fe99517b-1c48-49d0-952d-cd4b7c617cc1\">\n",
              "    <div class=\"colab-df-container\">\n",
              "      <div>\n",
              "<style scoped>\n",
              "    .dataframe tbody tr th:only-of-type {\n",
              "        vertical-align: middle;\n",
              "    }\n",
              "\n",
              "    .dataframe tbody tr th {\n",
              "        vertical-align: top;\n",
              "    }\n",
              "\n",
              "    .dataframe thead th {\n",
              "        text-align: right;\n",
              "    }\n",
              "</style>\n",
              "<table border=\"1\" class=\"dataframe\">\n",
              "  <thead>\n",
              "    <tr style=\"text-align: right;\">\n",
              "      <th></th>\n",
              "      <th>Movie Name</th>\n",
              "      <th>Director</th>\n",
              "      <th>Released Year</th>\n",
              "      <th>Movie Type</th>\n",
              "    </tr>\n",
              "  </thead>\n",
              "  <tbody>\n",
              "    <tr>\n",
              "      <th>0</th>\n",
              "      <td>Movie 1</td>\n",
              "      <td>Kevin Feige</td>\n",
              "      <td>2020</td>\n",
              "      <td>Thriller</td>\n",
              "    </tr>\n",
              "    <tr>\n",
              "      <th>1</th>\n",
              "      <td>Movie 2</td>\n",
              "      <td>Kevin Feige</td>\n",
              "      <td>2019</td>\n",
              "      <td>Action</td>\n",
              "    </tr>\n",
              "    <tr>\n",
              "      <th>2</th>\n",
              "      <td>Movie 3</td>\n",
              "      <td>Kevin Feige</td>\n",
              "      <td>2017</td>\n",
              "      <td>Thriller</td>\n",
              "    </tr>\n",
              "    <tr>\n",
              "      <th>3</th>\n",
              "      <td>Movie 4</td>\n",
              "      <td>Kevin Feige</td>\n",
              "      <td>2016</td>\n",
              "      <td>Drama</td>\n",
              "    </tr>\n",
              "    <tr>\n",
              "      <th>4</th>\n",
              "      <td>Movie 5</td>\n",
              "      <td>Anthony Russo</td>\n",
              "      <td>2015</td>\n",
              "      <td>Comedy</td>\n",
              "    </tr>\n",
              "    <tr>\n",
              "      <th>5</th>\n",
              "      <td>Movie 6</td>\n",
              "      <td>Anthony Russo</td>\n",
              "      <td>2014</td>\n",
              "      <td>Thriller</td>\n",
              "    </tr>\n",
              "    <tr>\n",
              "      <th>6</th>\n",
              "      <td>Movie 7</td>\n",
              "      <td>Anthony Russo</td>\n",
              "      <td>2018</td>\n",
              "      <td>Thriller</td>\n",
              "    </tr>\n",
              "    <tr>\n",
              "      <th>7</th>\n",
              "      <td>Movie 8</td>\n",
              "      <td>Christopher Nolan</td>\n",
              "      <td>2013</td>\n",
              "      <td>Action</td>\n",
              "    </tr>\n",
              "    <tr>\n",
              "      <th>8</th>\n",
              "      <td>Movie 9</td>\n",
              "      <td>Christopher Nolan</td>\n",
              "      <td>2012</td>\n",
              "      <td>Action</td>\n",
              "    </tr>\n",
              "    <tr>\n",
              "      <th>9</th>\n",
              "      <td>Movie 10</td>\n",
              "      <td>Christopher Nolan</td>\n",
              "      <td>2014</td>\n",
              "      <td>Drama</td>\n",
              "    </tr>\n",
              "    <tr>\n",
              "      <th>10</th>\n",
              "      <td>Movie 11</td>\n",
              "      <td>Christopher Nolan</td>\n",
              "      <td>2017</td>\n",
              "      <td>Drama</td>\n",
              "    </tr>\n",
              "    <tr>\n",
              "      <th>11</th>\n",
              "      <td>Movie 12</td>\n",
              "      <td>Martin Scorsese</td>\n",
              "      <td>2022</td>\n",
              "      <td>Horror</td>\n",
              "    </tr>\n",
              "    <tr>\n",
              "      <th>12</th>\n",
              "      <td>Movie 13</td>\n",
              "      <td>Martin Scorsese</td>\n",
              "      <td>2019</td>\n",
              "      <td>Horror</td>\n",
              "    </tr>\n",
              "    <tr>\n",
              "      <th>13</th>\n",
              "      <td>Movie 14</td>\n",
              "      <td>Steven Speilberg</td>\n",
              "      <td>2021</td>\n",
              "      <td>Comedy</td>\n",
              "    </tr>\n",
              "    <tr>\n",
              "      <th>14</th>\n",
              "      <td>Movie 15</td>\n",
              "      <td>Steven Speilberg</td>\n",
              "      <td>2020</td>\n",
              "      <td>Horror</td>\n",
              "    </tr>\n",
              "  </tbody>\n",
              "</table>\n",
              "</div>\n",
              "      <button class=\"colab-df-convert\" onclick=\"convertToInteractive('df-fe99517b-1c48-49d0-952d-cd4b7c617cc1')\"\n",
              "              title=\"Convert this dataframe to an interactive table.\"\n",
              "              style=\"display:none;\">\n",
              "        \n",
              "  <svg xmlns=\"http://www.w3.org/2000/svg\" height=\"24px\"viewBox=\"0 0 24 24\"\n",
              "       width=\"24px\">\n",
              "    <path d=\"M0 0h24v24H0V0z\" fill=\"none\"/>\n",
              "    <path d=\"M18.56 5.44l.94 2.06.94-2.06 2.06-.94-2.06-.94-.94-2.06-.94 2.06-2.06.94zm-11 1L8.5 8.5l.94-2.06 2.06-.94-2.06-.94L8.5 2.5l-.94 2.06-2.06.94zm10 10l.94 2.06.94-2.06 2.06-.94-2.06-.94-.94-2.06-.94 2.06-2.06.94z\"/><path d=\"M17.41 7.96l-1.37-1.37c-.4-.4-.92-.59-1.43-.59-.52 0-1.04.2-1.43.59L10.3 9.45l-7.72 7.72c-.78.78-.78 2.05 0 2.83L4 21.41c.39.39.9.59 1.41.59.51 0 1.02-.2 1.41-.59l7.78-7.78 2.81-2.81c.8-.78.8-2.07 0-2.86zM5.41 20L4 18.59l7.72-7.72 1.47 1.35L5.41 20z\"/>\n",
              "  </svg>\n",
              "      </button>\n",
              "      \n",
              "  <style>\n",
              "    .colab-df-container {\n",
              "      display:flex;\n",
              "      flex-wrap:wrap;\n",
              "      gap: 12px;\n",
              "    }\n",
              "\n",
              "    .colab-df-convert {\n",
              "      background-color: #E8F0FE;\n",
              "      border: none;\n",
              "      border-radius: 50%;\n",
              "      cursor: pointer;\n",
              "      display: none;\n",
              "      fill: #1967D2;\n",
              "      height: 32px;\n",
              "      padding: 0 0 0 0;\n",
              "      width: 32px;\n",
              "    }\n",
              "\n",
              "    .colab-df-convert:hover {\n",
              "      background-color: #E2EBFA;\n",
              "      box-shadow: 0px 1px 2px rgba(60, 64, 67, 0.3), 0px 1px 3px 1px rgba(60, 64, 67, 0.15);\n",
              "      fill: #174EA6;\n",
              "    }\n",
              "\n",
              "    [theme=dark] .colab-df-convert {\n",
              "      background-color: #3B4455;\n",
              "      fill: #D2E3FC;\n",
              "    }\n",
              "\n",
              "    [theme=dark] .colab-df-convert:hover {\n",
              "      background-color: #434B5C;\n",
              "      box-shadow: 0px 1px 3px 1px rgba(0, 0, 0, 0.15);\n",
              "      filter: drop-shadow(0px 1px 2px rgba(0, 0, 0, 0.3));\n",
              "      fill: #FFFFFF;\n",
              "    }\n",
              "  </style>\n",
              "\n",
              "      <script>\n",
              "        const buttonEl =\n",
              "          document.querySelector('#df-fe99517b-1c48-49d0-952d-cd4b7c617cc1 button.colab-df-convert');\n",
              "        buttonEl.style.display =\n",
              "          google.colab.kernel.accessAllowed ? 'block' : 'none';\n",
              "\n",
              "        async function convertToInteractive(key) {\n",
              "          const element = document.querySelector('#df-fe99517b-1c48-49d0-952d-cd4b7c617cc1');\n",
              "          const dataTable =\n",
              "            await google.colab.kernel.invokeFunction('convertToInteractive',\n",
              "                                                     [key], {});\n",
              "          if (!dataTable) return;\n",
              "\n",
              "          const docLinkHtml = 'Like what you see? Visit the ' +\n",
              "            '<a target=\"_blank\" href=https://colab.research.google.com/notebooks/data_table.ipynb>data table notebook</a>'\n",
              "            + ' to learn more about interactive tables.';\n",
              "          element.innerHTML = '';\n",
              "          dataTable['output_type'] = 'display_data';\n",
              "          await google.colab.output.renderOutput(dataTable, element);\n",
              "          const docLink = document.createElement('div');\n",
              "          docLink.innerHTML = docLinkHtml;\n",
              "          element.appendChild(docLink);\n",
              "        }\n",
              "      </script>\n",
              "    </div>\n",
              "  </div>\n",
              "  "
            ]
          },
          "metadata": {},
          "execution_count": 2
        }
      ]
    },
    {
      "cell_type": "code",
      "source": [
        "#X is input vars, y is output vars\n",
        "X = df[['Director', 'Released Year']]\n",
        "y = df[['Movie Type']]\n",
        "print(df.info())\n",
        "\n",
        "#converting objects to integers\n",
        "X = X.apply(lambda col: pd.factorize(col)[0])\n",
        "y = y.apply(lambda col: pd.factorize(col)[0])\n"
      ],
      "metadata": {
        "colab": {
          "base_uri": "https://localhost:8080/"
        },
        "id": "uvoFRm9zgc4W",
        "outputId": "7d5e5b5e-c646-4f92-f423-f7438213a783"
      },
      "execution_count": 11,
      "outputs": [
        {
          "output_type": "stream",
          "name": "stdout",
          "text": [
            "<class 'pandas.core.frame.DataFrame'>\n",
            "RangeIndex: 15 entries, 0 to 14\n",
            "Data columns (total 4 columns):\n",
            " #   Column         Non-Null Count  Dtype \n",
            "---  ------         --------------  ----- \n",
            " 0   Movie Name     15 non-null     object\n",
            " 1   Director       15 non-null     object\n",
            " 2   Released Year  15 non-null     int64 \n",
            " 3   Movie Type     15 non-null     object\n",
            "dtypes: int64(1), object(3)\n",
            "memory usage: 608.0+ bytes\n",
            "None\n"
          ]
        }
      ]
    },
    {
      "cell_type": "code",
      "source": [
        "X.info()"
      ],
      "metadata": {
        "colab": {
          "base_uri": "https://localhost:8080/"
        },
        "id": "vR9bMJRghe6o",
        "outputId": "f16ebc41-ddda-4417-aba6-dfd1c3b2866f"
      },
      "execution_count": 9,
      "outputs": [
        {
          "output_type": "stream",
          "name": "stdout",
          "text": [
            "<class 'pandas.core.frame.DataFrame'>\n",
            "RangeIndex: 15 entries, 0 to 14\n",
            "Data columns (total 2 columns):\n",
            " #   Column         Non-Null Count  Dtype\n",
            "---  ------         --------------  -----\n",
            " 0   Director       15 non-null     int64\n",
            " 1   Released Year  15 non-null     int64\n",
            "dtypes: int64(2)\n",
            "memory usage: 368.0 bytes\n"
          ]
        }
      ]
    },
    {
      "cell_type": "code",
      "source": [
        "y.info()"
      ],
      "metadata": {
        "colab": {
          "base_uri": "https://localhost:8080/"
        },
        "id": "DyU9ZkSHhvJz",
        "outputId": "935195e3-973d-4297-8875-c29956b47b8f"
      },
      "execution_count": 10,
      "outputs": [
        {
          "output_type": "stream",
          "name": "stdout",
          "text": [
            "<class 'pandas.core.frame.DataFrame'>\n",
            "RangeIndex: 15 entries, 0 to 14\n",
            "Data columns (total 1 columns):\n",
            " #   Column      Non-Null Count  Dtype\n",
            "---  ------      --------------  -----\n",
            " 0   Movie Type  15 non-null     int64\n",
            "dtypes: int64(1)\n",
            "memory usage: 248.0 bytes\n"
          ]
        }
      ]
    },
    {
      "cell_type": "code",
      "source": [
        "#to predict for movie 11 and movie 12, so we have to manually set train test\n",
        "idx = [0, 1, 2, 3, 4, 5, 6, 7, 8, 9, 12, 13, 14]\n",
        "X_test = X.iloc[10:12, ]\n",
        "X_train = X.iloc[idx]\n",
        "y_test = y.iloc[10:12, ]\n",
        "y_train = y.iloc[idx]"
      ],
      "metadata": {
        "id": "3HjR6PtHh0wC"
      },
      "execution_count": 23,
      "outputs": []
    },
    {
      "cell_type": "code",
      "source": [
        "#our data is pretty wild because we converted it from string to int, and the other is relatively compacted to the 2000s range, so scale\n",
        "scaler = StandardScaler()\n",
        "X_train_scaled = scaler.fit_transform(X_train)\n",
        "X_test_scaled = scaler.transform(X_test)"
      ],
      "metadata": {
        "id": "Pk8QH_zEj2nL"
      },
      "execution_count": 61,
      "outputs": []
    },
    {
      "cell_type": "markdown",
      "source": [
        "With Linear Regression"
      ],
      "metadata": {
        "id": "2GGchiBnlike"
      }
    },
    {
      "cell_type": "code",
      "source": [
        "mymlr = LinearRegression()\n",
        "mymlr.fit(X_train_scaled, y_train)\n",
        "y_pred_mlr = mymlr.predict(X_test_scaled)"
      ],
      "metadata": {
        "id": "4H773m0jj8Uz"
      },
      "execution_count": 62,
      "outputs": []
    },
    {
      "cell_type": "code",
      "source": [
        "mlr_mse = mean_squared_error(y_test, y_pred_mlr)\n",
        "mlr_mae = mean_absolute_error(y_test, y_pred_mlr)\n",
        "\n",
        "print(\"\\nLinear Regression \\nmse = \",mlr_mse,\" \\nmae = \",mlr_mae,\"\\nrmse = \", sqrt(mlr_mse))"
      ],
      "metadata": {
        "colab": {
          "base_uri": "https://localhost:8080/"
        },
        "id": "kaH40wGvkWSD",
        "outputId": "b54f3f97-3118-4011-a56f-2222c3442332"
      },
      "execution_count": 63,
      "outputs": [
        {
          "output_type": "stream",
          "name": "stdout",
          "text": [
            "\n",
            "Linear Regression \n",
            "mse =  2.074003910689363  \n",
            "mae =  1.1863478940900456 \n",
            "rmse =  1.440140239938237\n"
          ]
        }
      ]
    },
    {
      "cell_type": "code",
      "source": [
        "plt.scatter(y_test, y_pred_mlr, label=\"prediction vs actual\")\n",
        "plt.xlabel(\"Real Values\")\n",
        "plt.ylabel(\"predicted Values\")\n",
        "plt.plot(y, y, '-r', label=\"Ideal accuracy\")\n",
        "plt.legend()\n",
        "plt.title(\"MLR comparison\")\n",
        "plt.show()"
      ],
      "metadata": {
        "colab": {
          "base_uri": "https://localhost:8080/",
          "height": 295
        },
        "id": "WYXXkRn3k2Fl",
        "outputId": "b45e9acf-14d4-4de1-da7f-757aa2603c27"
      },
      "execution_count": 64,
      "outputs": [
        {
          "output_type": "display_data",
          "data": {
            "text/plain": [
              "<Figure size 432x288 with 1 Axes>"
            ],
            "image/png": "[encoded data removed]"
          },
          "metadata": {
            "needs_background": "light"
          }
        }
      ]
    },
    {
      "cell_type": "markdown",
      "source": [
        "With Logistic Regression"
      ],
      "metadata": {
        "id": "HEBuM4RSlk10"
      }
    },
    {
      "cell_type": "code",
      "source": [
        "mylogReg = LogisticRegression(random_state=0).fit(X_train_scaled, y_train)\n",
        "y_pred_logreg = mylogReg.predict(X_test_scaled)"
      ],
      "metadata": {
        "colab": {
          "base_uri": "https://localhost:8080/"
        },
        "id": "YndyUQ-wld4N",
        "outputId": "22b58546-605c-4dc3-fe03-447be507421c"
      },
      "execution_count": 65,
      "outputs": [
        {
          "output_type": "stream",
          "name": "stderr",
          "text": [
            "/usr/local/lib/python3.7/dist-packages/sklearn/utils/validation.py:993: DataConversionWarning: A column-vector y was passed when a 1d array was expected. Please change the shape of y to (n_samples, ), for example using ravel().\n",
            "  y = column_or_1d(y, warn=True)\n"
          ]
        }
      ]
    },
    {
      "cell_type": "code",
      "source": [
        "logreg_mse = mean_squared_error(y_test, y_pred_logreg)\n",
        "logreg_mae = mean_absolute_error(y_test, y_pred_logreg)\n",
        "\n",
        "print(\"\\nLinear Regression \\nmse = \",logreg_mse,\" \\nmae = \",logreg_mae,\"\\nrmse = \", sqrt(logreg_mse))"
      ],
      "metadata": {
        "colab": {
          "base_uri": "https://localhost:8080/"
        },
        "id": "3MhIejjdmRp-",
        "outputId": "b6b950a1-c5c6-4338-cb4a-179318d4c212"
      },
      "execution_count": 66,
      "outputs": [
        {
          "output_type": "stream",
          "name": "stdout",
          "text": [
            "\n",
            "Linear Regression \n",
            "mse =  2.5  \n",
            "mae =  1.5 \n",
            "rmse =  1.5811388300841898\n"
          ]
        }
      ]
    },
    {
      "cell_type": "code",
      "source": [
        "plt.scatter(y_test, y_pred_logreg, label=\"Real Comparison\")\n",
        "plt.plot(y, y, '-r', label=\"Ideal Accuracy\")\n",
        "plt.xlabel(\"Real\")\n",
        "plt.ylabel(\"Predicted\")\n",
        "plt.title(\"logreg comparison\")\n",
        "plt.show()"
      ],
      "metadata": {
        "colab": {
          "base_uri": "https://localhost:8080/",
          "height": 295
        },
        "id": "8XVrV42-mSWs",
        "outputId": "09cce45c-1874-4453-8fd9-ab4df4ca31d9"
      },
      "execution_count": 67,
      "outputs": [
        {
          "output_type": "display_data",
          "data": {
            "text/plain": [
              "<Figure size 432x288 with 1 Axes>"
            ],
            "image/png": "[encoded data removed]"
          },
          "metadata": {
            "needs_background": "light"
          }
        }
      ]
    },
    {
      "cell_type": "code",
      "source": [
        "#plotting accuracy metrics\n",
        "mse_data = [mlr_mse, logreg_mse]\n",
        "mae_data = [mlr_mae, logreg_mae]\n",
        "rmse_data = [sqrt(mlr_mse), sqrt(logreg_mse)]\n",
        "\n",
        "index = ['MLR', 'LogReg']\n",
        "df_metrics = pd.DataFrame({'MSE': mse_data, 'MAE': mae_data,'RMSE': rmse_data}, index=index)\n",
        "df_metrics.plot.bar()"
      ],
      "metadata": {
        "colab": {
          "base_uri": "https://localhost:8080/",
          "height": 310
        },
        "id": "Xvs6lfthmczk",
        "outputId": "9608fe79-82e4-4e09-d10f-ed5b2b317281"
      },
      "execution_count": 68,
      "outputs": [
        {
          "output_type": "execute_result",
          "data": {
            "text/plain": [
              "<matplotlib.axes._subplots.AxesSubplot at 0x7fbf3e8c1090>"
            ]
          },
          "metadata": {},
          "execution_count": 68
        },
        {
          "output_type": "display_data",
          "data": {
            "text/plain": [
              "<Figure size 432x288 with 1 Axes>"
            ],
            "image/png": "[encoded data removed]"
          },
          "metadata": {
            "needs_background": "light"
          }
        }
      ]
    },
    {
      "cell_type": "markdown",
      "source": [
        "As we can see, LogReg is on average showing worse accuracy than Linear Regression"
      ],
      "metadata": {
        "id": "P1tGegKznmCU"
      }
    }
  ]
}