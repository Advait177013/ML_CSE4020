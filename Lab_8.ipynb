{
  "nbformat": 4,
  "nbformat_minor": 0,
  "metadata": {
    "colab": {
      "provenance": [],
      "collapsed_sections": [],
      "authorship_tag": "ABX9TyNga9MX5ELyw6NmoJT2tPIA",
      "include_colab_link": true
    },
    "kernelspec": {
      "name": "python3",
      "display_name": "Python 3"
    },
    "language_info": {
      "name": "python"
    }
  },
  "cells": [
    {
      "cell_type": "markdown",
      "metadata": {
        "id": "view-in-github",
        "colab_type": "text"
      },
      "source": [
        "<a href=\"https://colab.research.google.com/github/Advait177013/ML_CSE4020/blob/main/Lab_8.ipynb\" target=\"_parent\"><img src=\"https://colab.research.google.com/assets/colab-badge.svg\" alt=\"Open In Colab\"/></a>"
      ]
    },
    {
      "cell_type": "code",
      "execution_count": 5,
      "metadata": {
        "id": "L8GyQ4l4cWX-"
      },
      "outputs": [],
      "source": [
        "import numpy as np\n",
        "import pandas as pd\n",
        "import matplotlib.pyplot as plt\n",
        "%matplotlib inline"
      ]
    },
    {
      "cell_type": "code",
      "source": [
        "#kmeans, knn, kmedoids\n",
        "from sklearn.datasets import load_iris\n",
        "X, y = load_iris(return_X_y = True)\n",
        "from sklearn import preprocessing \n",
        "scalerX = preprocessing.StandardScaler().fit(X)\n",
        "X= scalerX.transform(X)\n",
        "from sklearn.model_selection import train_test_split\n",
        "X_train, X_test, y_train, y_test = train_test_split(X, y, test_size=0.2)"
      ],
      "metadata": {
        "id": "4vBxx0dOc31F"
      },
      "execution_count": 6,
      "outputs": []
    },
    {
      "cell_type": "code",
      "source": [
        "from sklearn.cluster import KMeans\n",
        "kmeans = KMeans(n_clusters = 3, random_state=0, n_init=100).fit(X_train)\n",
        "kmeans.cluster_centers_\n",
        "y_pred_kmeans = kmeans.predict(X_test)"
      ],
      "metadata": {
        "id": "W86IpxiZeKDp"
      },
      "execution_count": 55,
      "outputs": []
    },
    {
      "cell_type": "code",
      "source": [
        "y_pred_kmeans"
      ],
      "metadata": {
        "colab": {
          "base_uri": "https://localhost:8080/",
          "height": 0
        },
        "id": "jDdPZjD-39MO",
        "outputId": "7dff76ca-78ab-4124-d5a4-116640ed3f2c"
      },
      "execution_count": 56,
      "outputs": [
        {
          "output_type": "execute_result",
          "data": {
            "text/plain": [
              "array([0, 1, 2, 0, 1, 0, 2, 1, 1, 2, 1, 0, 2, 0, 1, 0, 1, 0, 2, 0, 2, 0,\n",
              "       1, 2, 2, 1, 0, 2, 2, 2], dtype=int32)"
            ]
          },
          "metadata": {},
          "execution_count": 56
        }
      ]
    },
    {
      "cell_type": "code",
      "source": [
        "y_test"
      ],
      "metadata": {
        "colab": {
          "base_uri": "https://localhost:8080/",
          "height": 0
        },
        "id": "TPgkdnNZ4BQl",
        "outputId": "43dc7036-92ce-4b9b-e0f9-850db749d3e3"
      },
      "execution_count": 11,
      "outputs": [
        {
          "output_type": "execute_result",
          "data": {
            "text/plain": [
              "array([1, 1, 0, 1, 2, 1, 0, 2, 2, 0, 2, 1, 0, 1, 2, 1, 2, 2, 0, 1, 0, 1,\n",
              "       1, 0, 0, 1, 1, 0, 0, 0])"
            ]
          },
          "metadata": {},
          "execution_count": 11
        }
      ]
    },
    {
      "cell_type": "code",
      "source": [
        "import seaborn as sb\n",
        "y_checker = np.vstack((y_test, y_pred_kmeans))\n",
        "checker = sb.heatmap(y_checker, annot=True)"
      ],
      "metadata": {
        "colab": {
          "base_uri": "https://localhost:8080/",
          "height": 269
        },
        "id": "mLeeDHc_4JWw",
        "outputId": "fcdc8df4-0dd4-4f2b-89fe-4d345baf9a14"
      },
      "execution_count": 57,
      "outputs": [
        {
          "output_type": "display_data",
          "data": {
            "text/plain": [
              "<Figure size 432x288 with 2 Axes>"
            ],
            "image/png": "[encoded data removed]"
          },
          "metadata": {
            "needs_background": "light"
          }
        }
      ]
    },
    {
      "cell_type": "code",
      "source": [
        "#convert 2 in y_pred to 0 by y_test\n",
        "#convert 0 in y_pred to 1 by y_test\n",
        "#convert 1 in y_pred to 2 by y_test\n",
        "#below code cycles the values\n",
        "y_pred_kmeans[y_pred_kmeans > 1] = -5\n",
        "y_pred_kmeans[y_pred_kmeans > 0] = -2\n",
        "y_pred_kmeans[y_pred_kmeans > -1] = 1\n",
        "y_pred_kmeans[y_pred_kmeans < -4] = 0\n",
        "y_pred_kmeans[y_pred_kmeans < -1] = 2\n",
        "#y_pred\n",
        "y_checker = np.vstack((y_test, y_pred_kmeans))\n",
        "checker = sb.heatmap(y_checker, annot=True)"
      ],
      "metadata": {
        "colab": {
          "base_uri": "https://localhost:8080/",
          "height": 269
        },
        "id": "L-KsqK8i6fSd",
        "outputId": "0d62aa0e-09d4-4491-b420-e95e0969fbbd"
      },
      "execution_count": 61,
      "outputs": [
        {
          "output_type": "display_data",
          "data": {
            "text/plain": [
              "<Figure size 432x288 with 2 Axes>"
            ],
            "image/png": "[encoded data removed]"
          },
          "metadata": {
            "needs_background": "light"
          }
        }
      ]
    },
    {
      "cell_type": "code",
      "source": [
        "from sklearn.metrics import accuracy_score\n",
        "accuracy_score(y_test, y_pred_kmeans)"
      ],
      "metadata": {
        "colab": {
          "base_uri": "https://localhost:8080/",
          "height": 0
        },
        "id": "MEurFyc0AhxX",
        "outputId": "ecdd8696-15ea-47c3-a1d1-66ee82912390"
      },
      "execution_count": 62,
      "outputs": [
        {
          "output_type": "execute_result",
          "data": {
            "text/plain": [
              "0.8666666666666667"
            ]
          },
          "metadata": {},
          "execution_count": 62
        }
      ]
    },
    {
      "cell_type": "code",
      "source": [
        "from sklearn.neighbors import KNeighborsClassifier\n",
        "irisclassifier = KNeighborsClassifier(n_neighbors=20)\n",
        "irisclassifier.fit(X_train, y_train)"
      ],
      "metadata": {
        "colab": {
          "base_uri": "https://localhost:8080/",
          "height": 0
        },
        "id": "5DaxFNp5CLaq",
        "outputId": "14291e1d-be19-42db-d276-16d6e294742a"
      },
      "execution_count": 44,
      "outputs": [
        {
          "output_type": "execute_result",
          "data": {
            "text/plain": [
              "KNeighborsClassifier(n_neighbors=20)"
            ]
          },
          "metadata": {},
          "execution_count": 44
        }
      ]
    },
    {
      "cell_type": "code",
      "source": [
        "y_pred_knn = irisclassifier.predict(X_test)\n",
        "accuracy_score(y_test, y_pred_knn)"
      ],
      "metadata": {
        "colab": {
          "base_uri": "https://localhost:8080/",
          "height": 0
        },
        "id": "6LNGSzE1EMB7",
        "outputId": "f9fb3981-6cf9-4a78-e0ae-23c8cacfeb41"
      },
      "execution_count": 46,
      "outputs": [
        {
          "output_type": "execute_result",
          "data": {
            "text/plain": [
              "1.0"
            ]
          },
          "metadata": {},
          "execution_count": 46
        }
      ]
    },
    {
      "cell_type": "code",
      "source": [
        "%pip install scikit-learn-extra"
      ],
      "metadata": {
        "colab": {
          "base_uri": "https://localhost:8080/",
          "height": 0
        },
        "id": "Jk1aRMS_Etau",
        "outputId": "56a0ca33-7d9a-435c-a600-87c6aa86b556"
      },
      "execution_count": 50,
      "outputs": [
        {
          "output_type": "stream",
          "name": "stdout",
          "text": [
            "Looking in indexes: https://pypi.org/simple, https://us-python.pkg.dev/colab-wheels/public/simple/\n",
            "Requirement already satisfied: scikit-learn-extra in /usr/local/lib/python3.7/dist-packages (0.2.0)\n",
            "Requirement already satisfied: numpy>=1.13.3 in /usr/local/lib/python3.7/dist-packages (from scikit-learn-extra) (1.21.6)\n",
            "Requirement already satisfied: scipy>=0.19.1 in /usr/local/lib/python3.7/dist-packages (from scikit-learn-extra) (1.7.3)\n",
            "Requirement already satisfied: scikit-learn>=0.23.0 in /usr/local/lib/python3.7/dist-packages (from scikit-learn-extra) (1.0.2)\n",
            "Requirement already satisfied: joblib>=0.11 in /usr/local/lib/python3.7/dist-packages (from scikit-learn>=0.23.0->scikit-learn-extra) (1.2.0)\n",
            "Requirement already satisfied: threadpoolctl>=2.0.0 in /usr/local/lib/python3.7/dist-packages (from scikit-learn>=0.23.0->scikit-learn-extra) (3.1.0)\n"
          ]
        }
      ]
    },
    {
      "cell_type": "code",
      "source": [
        "from sklearn_extra.cluster import KMedoids\n",
        "kmedoids = KMedoids(n_clusters = 3, random_state=0)\n",
        "kmedoids.fit(X_train)\n",
        "y_pred_kmedoid = kmedoids.predict(X_test)\n",
        "accuracy_score(y_test, y_pred_kmedoid)\n"
      ],
      "metadata": {
        "colab": {
          "base_uri": "https://localhost:8080/",
          "height": 0
        },
        "id": "BgUy3wU-IFUj",
        "outputId": "6e7bb526-09db-4cfc-d590-86ac5e723ca8"
      },
      "execution_count": 54,
      "outputs": [
        {
          "output_type": "execute_result",
          "data": {
            "text/plain": [
              "0.9"
            ]
          },
          "metadata": {},
          "execution_count": 54
        }
      ]
    }
  ]
}