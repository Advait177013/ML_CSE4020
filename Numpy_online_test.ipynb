{
  "nbformat": 4,
  "nbformat_minor": 0,
  "metadata": {
    "colab": {
      "name": "Numpy online test.ipynb",
      "provenance": [],
      "authorship_tag": "ABX9TyPWxv0/Vmv3/6xf5l/V58wt",
      "include_colab_link": true
    },
    "kernelspec": {
      "name": "python3",
      "display_name": "Python 3"
    },
    "language_info": {
      "name": "python"
    }
  },
  "cells": [
    {
      "cell_type": "markdown",
      "metadata": {
        "id": "view-in-github",
        "colab_type": "text"
      },
      "source": [
        "<a href=\"https://colab.research.google.com/github/Advait177013/ML_CSE4020/blob/main/Numpy_online_test.ipynb\" target=\"_parent\"><img src=\"https://colab.research.google.com/assets/colab-badge.svg\" alt=\"Open In Colab\"/></a>"
      ]
    },
    {
      "cell_type": "code",
      "execution_count": 1,
      "metadata": {
        "id": "ID2K0uxJHS6u"
      },
      "outputs": [],
      "source": [
        "import numpy"
      ]
    },
    {
      "cell_type": "code",
      "source": [
        "arr1=numpy.array([20, 11, 43])\n",
        "print(arr1)\n",
        "arr2=numpy.array([[2, 0], [1, 1], [4, 3]])\n",
        "print(arr2)"
      ],
      "metadata": {
        "colab": {
          "base_uri": "https://localhost:8080/"
        },
        "id": "JiUC09h0VtD3",
        "outputId": "d4eff551-badc-4e67-ef6c-c911d6a574d8"
      },
      "execution_count": 4,
      "outputs": [
        {
          "output_type": "stream",
          "name": "stdout",
          "text": [
            "[20 11 43]\n",
            "[[2 0]\n",
            " [1 1]\n",
            " [4 3]]\n"
          ]
        }
      ]
    },
    {
      "cell_type": "code",
      "source": [
        "print(type(arr2))\n",
        "print(arr2.dtype)\n",
        "print(arr2.shape)\n",
        "print(arr2.size)\n",
        "print(arr2.itemsize)\n",
        "print(arr2.ndim)\n",
        "print(arr2.nbytes)"
      ],
      "metadata": {
        "colab": {
          "base_uri": "https://localhost:8080/"
        },
        "id": "Nj02EV9_WVdr",
        "outputId": "1cff559f-a7dc-4c8d-d2fa-ebd51a16dd62"
      },
      "execution_count": 5,
      "outputs": [
        {
          "output_type": "stream",
          "name": "stdout",
          "text": [
            "<class 'numpy.ndarray'>\n",
            "int64\n",
            "(3, 2)\n",
            "6\n",
            "8\n",
            "2\n",
            "48\n"
          ]
        }
      ]
    },
    {
      "cell_type": "code",
      "source": [
        "arr_zer=numpy.zeros((3, 3), dtype=float)\n",
        "arr_ones=numpy.ones((3, 3), dtype=int)\n",
        "arr_iden=numpy.eye(3, 4)\n",
        "arr_rand=numpy.random.rand(2, 5)\n",
        "arr_randint=numpy.random.randint(2, size=(4, 4))\n",
        "print(arr_zer)\n",
        "print(arr_ones)\n",
        "print(arr_iden)\n",
        "print(arr_rand)\n",
        "print(arr_randint)"
      ],
      "metadata": {
        "colab": {
          "base_uri": "https://localhost:8080/"
        },
        "id": "AEkWOEUGWpBW",
        "outputId": "1de40351-85d5-45af-8b95-c6b46e869c4b"
      },
      "execution_count": 7,
      "outputs": [
        {
          "output_type": "stream",
          "name": "stdout",
          "text": [
            "[[0. 0. 0.]\n",
            " [0. 0. 0.]\n",
            " [0. 0. 0.]]\n",
            "[[1 1 1]\n",
            " [1 1 1]\n",
            " [1 1 1]]\n",
            "[[1. 0. 0. 0.]\n",
            " [0. 1. 0. 0.]\n",
            " [0. 0. 1. 0.]]\n",
            "[[0.27044619 0.5132273  0.3208573  0.48191246 0.1700705 ]\n",
            " [0.66779112 0.07278576 0.74240294 0.96149947 0.57183305]]\n",
            "[[0 1 0 0]\n",
            " [1 0 1 0]\n",
            " [1 0 0 1]\n",
            " [0 1 1 0]]\n"
          ]
        }
      ]
    },
    {
      "cell_type": "code",
      "source": [
        "arr_arr=numpy.arange(0, 69, 23)\n",
        "print(arr_arr)"
      ],
      "metadata": {
        "colab": {
          "base_uri": "https://localhost:8080/"
        },
        "id": "2JyL6j0sXWVP",
        "outputId": "650b9f28-6721-44ff-8892-3935f5038ac1"
      },
      "execution_count": 9,
      "outputs": [
        {
          "output_type": "stream",
          "name": "stdout",
          "text": [
            "[ 0 23 46]\n"
          ]
        }
      ]
    },
    {
      "cell_type": "code",
      "source": [
        "arr_lin=numpy.linspace(0, 10, 11)\n",
        "print(arr_lin)"
      ],
      "metadata": {
        "colab": {
          "base_uri": "https://localhost:8080/"
        },
        "id": "78Eh9g8KXvGL",
        "outputId": "368fdecd-30e7-4834-898b-890fcf82263f"
      },
      "execution_count": 10,
      "outputs": [
        {
          "output_type": "stream",
          "name": "stdout",
          "text": [
            "[ 0.  1.  2.  3.  4.  5.  6.  7.  8.  9. 10.]\n"
          ]
        }
      ]
    },
    {
      "cell_type": "code",
      "source": [
        "print(arr_rand, \"\\n\")\n",
        "print(arr_rand[:2], \"\\n\")\n",
        "print(arr_rand[1:], \"\\n\")\n",
        "print(arr_rand[0:1, 2:4], \"\\n\")\n",
        "print(arr_rand[:], \"\\n\")\n",
        "print(arr_rand[:,1::3], \"\\n\")"
      ],
      "metadata": {
        "colab": {
          "base_uri": "https://localhost:8080/"
        },
        "id": "yk10YQjzYgmj",
        "outputId": "5bb917f2-3b28-4f7e-c9eb-1a55f3a374d0"
      },
      "execution_count": 18,
      "outputs": [
        {
          "output_type": "stream",
          "name": "stdout",
          "text": [
            "[[0.27044619 0.5132273  0.3208573  0.48191246 0.1700705 ]\n",
            " [0.66779112 0.07278576 0.74240294 0.96149947 0.57183305]] \n",
            "\n",
            "[[0.27044619 0.5132273  0.3208573  0.48191246 0.1700705 ]\n",
            " [0.66779112 0.07278576 0.74240294 0.96149947 0.57183305]] \n",
            "\n",
            "[[0.66779112 0.07278576 0.74240294 0.96149947 0.57183305]] \n",
            "\n",
            "[[0.3208573  0.48191246]] \n",
            "\n",
            "[[0.27044619 0.5132273  0.3208573  0.48191246 0.1700705 ]\n",
            " [0.66779112 0.07278576 0.74240294 0.96149947 0.57183305]] \n",
            "\n",
            "[[0.5132273  0.1700705 ]\n",
            " [0.07278576 0.57183305]] \n",
            "\n"
          ]
        }
      ]
    },
    {
      "cell_type": "code",
      "source": [
        "arr20=numpy.array([0x000000, 0xA322EF, 0x2AFF00, 0x345AAA, 0x123456, 0xFFFFFF])\n",
        "mask=numpy.array([1, 0, 1, 0, 0, 1], dtype=bool)\n",
        "print(arr20[mask])"
      ],
      "metadata": {
        "colab": {
          "base_uri": "https://localhost:8080/"
        },
        "id": "rwIYBGDSZlTu",
        "outputId": "6f7f3ff3-b7d5-41bc-f08f-13f3c9f1c4b6"
      },
      "execution_count": 20,
      "outputs": [
        {
          "output_type": "stream",
          "name": "stdout",
          "text": [
            "[       0  2817792 16777215]\n"
          ]
        }
      ]
    },
    {
      "cell_type": "code",
      "source": [
        "arr21=numpy.array([[1, 2, 3], [4, 5, 6], [7, 8, 9]])\n",
        "print(arr21)\n",
        "print(\"sum\\t:\", numpy.sum(arr21))\n",
        "print(\"sum\\t:\", numpy.sum(arr21, axis=1))\n",
        "print(\"prod\\t:\", numpy.prod(arr21))\n",
        "print(\"prod\\t:\", numpy.prod(arr21, axis=0))\n",
        "print(\"min\\t:\", numpy.min(arr21))\n",
        "print(\"max\\t:\", numpy.max(arr21))\n",
        "print(\"min\\t:\", numpy.min(arr21, axis=0))\n",
        "print(\"max\\t:\", numpy.max(arr21, axis=1))\n",
        "print(\"mean\\t:\", numpy.mean(arr21, axis=0))\n",
        "print(\"var\\t:\", numpy.var(arr21, axis=0))\n",
        "print(\"std dev\\t:\", numpy.std(arr21, axis=0))\n",
        "print(\"avg\\t:\", numpy.average(arr21, axis=1))\n",
        "print(\"wgt avg\\t:\", numpy.average(arr21, weights=[2, 1, 2], axis=1))"
      ],
      "metadata": {
        "colab": {
          "base_uri": "https://localhost:8080/"
        },
        "id": "uYcDwJjDa7ov",
        "outputId": "3a2417ea-607f-48a7-fcd1-41995b9f5499"
      },
      "execution_count": 29,
      "outputs": [
        {
          "output_type": "stream",
          "name": "stdout",
          "text": [
            "[[1 2 3]\n",
            " [4 5 6]\n",
            " [7 8 9]]\n",
            "sum\t: 45\n",
            "sum\t: [ 6 15 24]\n",
            "prod\t: 362880\n",
            "prod\t: [ 28  80 162]\n",
            "min\t: 1\n",
            "max\t: 9\n",
            "min\t: [1 2 3]\n",
            "max\t: [3 6 9]\n",
            "mean\t: [4. 5. 6.]\n",
            "var\t: [6. 6. 6.]\n",
            "std dev\t: [2.44948974 2.44948974 2.44948974]\n",
            "avg\t: [2. 5. 8.]\n",
            "wgt avg\t: [2. 5. 8.]\n"
          ]
        }
      ]
    },
    {
      "cell_type": "code",
      "source": [
        "print(arr21[2]+arr21[0])\n",
        "print(arr21[2]-arr21[0])\n",
        "print(arr21[2]+5)"
      ],
      "metadata": {
        "colab": {
          "base_uri": "https://localhost:8080/"
        },
        "id": "SPCArwWCczf1",
        "outputId": "1413db1d-79ec-4f9d-f332-004350f89f44"
      },
      "execution_count": 39,
      "outputs": [
        {
          "output_type": "stream",
          "name": "stdout",
          "text": [
            "[ 8 10 12]\n",
            "[6 6 6]\n",
            "[12 13 14]\n"
          ]
        }
      ]
    },
    {
      "cell_type": "code",
      "source": [
        "print(arr21[0]==arr21[1])\n",
        "print(arr21[0][1]>arr21[0][2])\n",
        "print(arr21[0][1]<arr21[2])"
      ],
      "metadata": {
        "colab": {
          "base_uri": "https://localhost:8080/"
        },
        "id": "mqfThXqzdftX",
        "outputId": "f52c8841-891d-4dc6-aa76-bb6834ba9122"
      },
      "execution_count": 42,
      "outputs": [
        {
          "output_type": "stream",
          "name": "stdout",
          "text": [
            "[False False False]\n",
            "False\n",
            "[ True  True  True]\n"
          ]
        }
      ]
    },
    {
      "cell_type": "code",
      "source": [
        "print(\"sine of pi radians : \", numpy.sin(numpy.pi))\n",
        "print(\"cosian of pi/4 : \", numpy.cos((numpy.pi/4)))\n",
        "print(\"natural log of e: \", numpy.log(numpy.e))\n",
        "print(\"natural log of 10: \", numpy.log(10))"
      ],
      "metadata": {
        "colab": {
          "base_uri": "https://localhost:8080/"
        },
        "id": "kMCt0XtZeN64",
        "outputId": "3375eb71-9640-4173-82b4-06b513bdecd6"
      },
      "execution_count": 52,
      "outputs": [
        {
          "output_type": "stream",
          "name": "stdout",
          "text": [
            "sine of pi radians :  1.2246467991473532e-16\n",
            "cosian of pi/4 :  0.7071067811865476\n",
            "natural log of e:  1.0\n",
            "natural log of 10:  2.302585092994046\n"
          ]
        }
      ]
    },
    {
      "cell_type": "code",
      "source": [
        "a1=numpy.array([1, 2, 4, 8, 16])\n",
        "a2=numpy.array([1, 1, 2, 3, 5])\n",
        "print(a1)\n",
        "print(a2)\n",
        "print(numpy.add(a1, 2))\n",
        "print(numpy.subtract(a2, 2))\n",
        "print(numpy.multiply(a1, 2))\n",
        "print(numpy.divide(a2, 2))\n",
        "print(numpy.power(a1, 2))"
      ],
      "metadata": {
        "colab": {
          "base_uri": "https://localhost:8080/"
        },
        "id": "MoVMtWN_fMVn",
        "outputId": "0f8dbc93-1553-493c-ae67-a33aa04f877a"
      },
      "execution_count": 53,
      "outputs": [
        {
          "output_type": "stream",
          "name": "stdout",
          "text": [
            "[ 1  2  4  8 16]\n",
            "[1 1 2 3 5]\n",
            "[ 3  4  6 10 18]\n",
            "[-1 -1  0  1  3]\n",
            "[ 2  4  8 16 32]\n",
            "[0.5 0.5 1.  1.5 2.5]\n",
            "[  1   4  16  64 256]\n"
          ]
        }
      ]
    },
    {
      "cell_type": "code",
      "source": [
        "import numpy as np\n",
        "print(np.add(a1, a2))\n",
        "print(np.subtract(a1, a2))\n",
        "print(np.divide(a1, a2))\n",
        "print(np.power(a1, a2))\n",
        "print(np.array_equal(a1, a2))\n",
        "print(np.sqrt(a1))\n",
        "print(np.round(a2))"
      ],
      "metadata": {
        "colab": {
          "base_uri": "https://localhost:8080/"
        },
        "id": "XPgKcom8f3xn",
        "outputId": "461e73d4-8e97-46a2-c9f2-3cb6da36bf87"
      },
      "execution_count": 55,
      "outputs": [
        {
          "output_type": "stream",
          "name": "stdout",
          "text": [
            "[ 2  3  6 11 21]\n",
            "[ 0  1  2  5 11]\n",
            "[1.         2.         2.         2.66666667 3.2       ]\n",
            "[      1       2      16     512 1048576]\n",
            "False\n",
            "[1.         1.41421356 2.         2.82842712 4.        ]\n",
            "[1 1 2 3 5]\n"
          ]
        }
      ]
    },
    {
      "cell_type": "code",
      "source": [
        "print(np.mean(arr21))\n",
        "print(np.mean(arr21, axis=1))\n",
        "print(np.sum(arr21))\n",
        "print(np.sum(arr21, axis=1))\n",
        "print(np.var(arr21))\n",
        "print(np.std(arr21))\n",
        "print(np.corrcoef(arr21))"
      ],
      "metadata": {
        "colab": {
          "base_uri": "https://localhost:8080/"
        },
        "id": "XdUs0O1XgdCn",
        "outputId": "7f729ab7-8dba-4bf2-c517-82918025f774"
      },
      "execution_count": 63,
      "outputs": [
        {
          "output_type": "stream",
          "name": "stdout",
          "text": [
            "5.0\n",
            "[2. 5. 8.]\n",
            "45\n",
            "[ 6 15 24]\n",
            "6.666666666666667\n",
            "2.581988897471611\n",
            "[[1. 1. 1.]\n",
            " [1. 1. 1.]\n",
            " [1. 1. 1.]]\n"
          ]
        }
      ]
    }
  ]
}